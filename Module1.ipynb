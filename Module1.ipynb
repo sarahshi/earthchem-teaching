{
 "cells": [
  {
   "attachments": {},
   "cell_type": "markdown",
   "metadata": {},
   "source": [
    "# Solid Earth-Geoinformatics\n",
    "\n",
    "## Module 1: MORB Global Systematics "
   ]
  },
  {
   "attachments": {},
   "cell_type": "markdown",
   "metadata": {},
   "source": [
    "### I. Accessing global datasets with simple coding (or Excel). \n",
    "\n",
    "### What am I looking at here? ###\n",
    "This is a Jupyter Notebook, a document in a web browser that you can edit, generate text, and run code (typically Python). You may have previously seen or used a Jupyter Notebook for courses such as UN3400: Computational Earth Science. In this particalur case, to help the code run smoothly, we are doing the processing in the cloud using a tool called Google Colab. This means that you should be able to access all of the packages required and execute the code independent of the details of the computer that you are using locally - all you need is access to an internet connection and a web browser.\n",
    "\n",
    "\n",
    "### Online Big Data - Bathymetry and MORB compositions ###\n",
    "A key feature of modern earth and environmental sciences is that huge observational, experimental and thermodynamic datasets are now available. The IEDA2 data infrastructures hosts obseravtional datasets with EarthChem and experimental and thermodynamic datasets with LEPR/TraceDs (Library of Experimental Phase Relations/Trace element Distribution experimental database). Tools like Python allow for increased interaction with these datasets. In this practical we will look at two datasets - one of [mid-ocean ridge basalt compositions](https://www.earthchem.org/petdb)] and one of [global bathymetry](https://www.gmrt.org/). You can click on the links to understand the data sources. The bathymetric data has a horizontal spatial resolution of 100-500m and there are over 100,000 samples with analyses in the PetDB database.\n",
    "\n",
    "\n",
    "### NumPy for simple maths, Pandas for data-tables, and GMT for mapping ###\n",
    "We will explore simple chemical relationships in the geochemical data using [Numpy](https://numpy.org/) to perform simple mathematical calculations and using [Pandas](https://pandas.pydata.org/) to read in data. We will additionally use the [Generic Mapping Tools (GMT)](https://www.generic-mapping-tools.org/) package, which is now available in Python, to produce maps and examine mid-ocean ridge bathmetry. GMT is widely used in the Earth and Marine Sciences. \n",
    "\n",
    "I'll put a couple of cells of code in below, which you should run, in order to import the correct packages and bathymetry data for use in the practical. \n"
   ]
  },
  {
   "cell_type": "markdown",
   "metadata": {},
   "source": []
  },
  {
   "cell_type": "code",
   "execution_count": null,
   "metadata": {},
   "outputs": [],
   "source": [
    "import numpy as np\n",
    "import pandas as pd\n",
    "from matplotlib import pyplot as plt\n",
    "%matplotlib inline\n",
    "%config InlineBackend.figure_format = 'retina'\n",
    "\n",
    "!pip install pygmt\n",
    "import pygmt"
   ]
  },
  {
   "cell_type": "code",
   "execution_count": null,
   "metadata": {},
   "outputs": [],
   "source": []
  }
 ],
 "metadata": {
  "kernelspec": {
   "display_name": "Geoinformatics",
   "language": "python",
   "name": "python3"
  },
  "language_info": {
   "codemirror_mode": {
    "name": "ipython",
    "version": 3
   },
   "file_extension": ".py",
   "mimetype": "text/x-python",
   "name": "python",
   "nbconvert_exporter": "python",
   "pygments_lexer": "ipython3",
   "version": "3.9.16"
  },
  "orig_nbformat": 4,
  "vscode": {
   "interpreter": {
    "hash": "0e91381c0b7a2c44de84c4a9897039f757f22e48c5134c211a2030ac3c5236d3"
   }
  }
 },
 "nbformat": 4,
 "nbformat_minor": 2
}
