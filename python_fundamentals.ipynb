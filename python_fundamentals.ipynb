{
 "cells": [
  {
   "cell_type": "markdown",
   "metadata": {},
   "source": [
    "# Computing in Earth Science \n",
    "\n",
    "Computing is an indispensable tool for nearly all geoscientists. Today almost all earth science relies on some form of computation, from simple statistical analysis and curve fitting to advanced numerical simulations. This notebook focuses on data analysis, a subset of computing in which the data already exist, e.g. from observations or from the output of a simulation, but have to be transformed into understanding. There are many different ways to gain understanding, but most workflows often boil down to:\n",
    "- Read data files\n",
    "- Perform analysis, from very simple (e.g. take the mean) to very complex (e.g. train a deep neural network)\n",
    "- Visualize the output in a figure\n",
    "\n",
    "This notebook doesn’t attempt to teach deep learning; its goal is to teach the basic foundations of applied data science within the geosciences. This material is designed to be accessible for all undergraduate students, with no prerequisites. \n",
    "\n",
    "This material is adapted from the [official Python tutorial](https://docs.python.org/3/tutorial/) and from the Computational Earth Science / Research Computing in Earth Science courses. It is used here under the terms of the [Python License](https://docs.python.org/3/license.html).\n",
    "\n",
    "### Overview\n",
    "The lessons is designed to give you an introduction to Python programming language with a goal of teaching you commands we will be using in this class. I encourage you to also look at other online tutorials (there are many!). With any programming language, there are almost always multiple ways to accomplish a certain programming task, and some methods are much better than others. It can be helpful to learn from more than one source.\n",
    "\n",
    "### Learning goals\n",
    "\n",
    "- Learn basic Python commands\n",
    "- Learn how to use Jupyter Notebooks\n",
    "- Learn how to create and manipulate data arrays\n",
    "- Learn to import and use Python packages to extend Python's capabilities\n",
    "- Learn about the NumPy package for numerical computing\n",
    "- Learn how to make plots using matplotlib"
   ]
  },
  {
   "cell_type": "markdown",
   "metadata": {},
   "source": [
    "## What is Python? \n",
    "\n",
    "Python is an open-source programming language that has been in development since the late 1980s. It is a general purpose coding language with a design philosophy that emphasizes code readability with the use of indentation. The Python community is composed of scientists and developers, who openly maintain and develop software packages online with platforms such as GitHub. Therein lies the benefit and beauty of Python, as it ensures the principle of reproducibility, meaning results must be repeatable to be trustworthy. \n",
    "\n",
    "Packages are Python’s way of encapsulating reusable code elements for sharing with others, widely used within the scientific Python ecosystem. Common Python packages include: \n",
    "\n",
    "- NumPy: https://github.com/numpy/numpy\n",
    "\n",
    "- Pandas: https://github.com/pandas-dev/pandas\n",
    "\n",
    "## What are Jupyter Notebooks?\n",
    "\n",
    "Jupyter Notebooks are interactive development environments for notebooks, code, and data. Flexible interfaces allow for users to configure and arrange workflows in data science, scientific computing, machine learning, and beyond. We will be using Jupyter Notebooks for their utility in teaching and tutorials. You can execute code line by line while displaying figures and graphics inline and additionally can intersperse the Python commands with text sections (like this one). We will be using Google Colab, a cloud-based server, to render these Jupyter Notebooks. \n",
    "\n",
    "### Cells\n",
    "Notebooks are simply a collection of cells. Each cell has a format as either _code_ where you can enter Python commands, or the cell can be text like this one. You can select the cell format using the drop down menu located at the top of the notebook. The text can be formatted as either _raw_, meaning plain ascii text without any formatting, or it can be formatted using the _markdown_ language as done for this cell. _markdown_ is a simple text formatting language. In additional to text formatting, _markdown_ allows you to enter equations using _Latex_ syntax so you can have formatted equations like this: $e^{i\\pi} + 1 = 0$ and $\\frac{\\sin(x)}{x}$. Here is a [cheatsheet for markdown commands](https://www.markdownguide.org/cheat-sheet) and [instructions in the Jupyter notebook documentation](https://jupyter-notebook.readthedocs.io/en/stable/examples/Notebook/Working%20With%20Markdown%20Cells.html).\n",
    "\n",
    "### Entering Commands\n",
    "\n",
    "The notebook works by entering commands into cells. You then hit \"shift-return\" to tell Jupyter to execute the commands in the currently selected cell.  By default cells are *Code* cells, where Jupyter expects the cell to contain Python commands. On a Mac, you can type \"option-return\" in a cell and a new cell will be made below.  There are many more options, all of which can be found by exploring the menu bar for you notebook as well as the menubar for JupyterLab. \n"
   ]
  },
  {
   "cell_type": "markdown",
   "metadata": {},
   "source": [
    "---\n",
    "## Simple Math\n",
    "You can use a cell as a calculator. For example:"
   ]
  },
  {
   "cell_type": "code",
   "execution_count": null,
   "metadata": {},
   "outputs": [],
   "source": [
    "# Note that anything to the right of a # symbol is considered comment and will be ignored by Python.\n",
    "# Addition \n",
    "1+2 "
   ]
  },
  {
   "cell_type": "code",
   "execution_count": null,
   "metadata": {},
   "outputs": [],
   "source": [
    "# Multiplication \n",
    "2*3"
   ]
  },
  {
   "cell_type": "code",
   "execution_count": null,
   "metadata": {},
   "outputs": [],
   "source": [
    "# Division\n",
    "1/3"
   ]
  },
  {
   "cell_type": "markdown",
   "metadata": {},
   "source": [
    "Python will strictly follow mathematical order of operations. Remember _PEMDAS_:\n",
    "- Parentheses\n",
    "- Exponents\n",
    "- Multiplication and Division\n",
    "- Addition and Subtraction\n",
    "\n",
    "For example:"
   ]
  },
  {
   "cell_type": "code",
   "execution_count": null,
   "metadata": {},
   "outputs": [],
   "source": [
    "4+5*3-2"
   ]
  },
  {
   "cell_type": "code",
   "execution_count": null,
   "metadata": {},
   "outputs": [],
   "source": [
    "4+5*(3-2)"
   ]
  },
  {
   "cell_type": "markdown",
   "metadata": {},
   "source": [
    "Python ignores spaces between the values and the operators. For example, the command below produces the same answer as the command above."
   ]
  },
  {
   "cell_type": "code",
   "execution_count": null,
   "metadata": {},
   "outputs": [],
   "source": [
    "4     + 5 *          (3 -2)"
   ]
  },
  {
   "cell_type": "markdown",
   "metadata": {},
   "source": [
    "You can also break up a long equation into more than one line using the backslash symbol \\ at the end of each line. This tells Python that your commands continue onto the next line."
   ]
  },
  {
   "cell_type": "code",
   "execution_count": null,
   "metadata": {},
   "outputs": [],
   "source": [
    "4 + 5 \\\n",
    "*(3-2)"
   ]
  },
  {
   "cell_type": "markdown",
   "metadata": {},
   "source": [
    "Exponents (or powers) are specified use two asterisks like this: **. For example, to raise two to the power 3, i.e. $2^3$, you use:"
   ]
  },
  {
   "cell_type": "code",
   "execution_count": null,
   "metadata": {},
   "outputs": [],
   "source": [
    "2**3"
   ]
  },
  {
   "cell_type": "markdown",
   "metadata": {},
   "source": [
    "You can also use scientific notation for numbers. In most programming languages, the character e (or E) is shorthand for ten to some power, such as $10^x$. For example,  $10^6$ can be entered as 1e6."
   ]
  },
  {
   "cell_type": "code",
   "execution_count": null,
   "metadata": {},
   "outputs": [],
   "source": [
    "1e6"
   ]
  },
  {
   "cell_type": "markdown",
   "metadata": {},
   "source": [
    "---\n",
    "## Number Variables\n",
    "\n",
    "In computer programming, a variable is used to store data, usually as numbers or characters.  "
   ]
  },
  {
   "cell_type": "code",
   "execution_count": null,
   "metadata": {},
   "outputs": [],
   "source": [
    "# Here we create variables a and b and assign them some values:\n",
    "a = 4\n",
    "b = 10"
   ]
  },
  {
   "cell_type": "code",
   "execution_count": null,
   "metadata": {},
   "outputs": [],
   "source": [
    "# Then we can use the variables in calculations:\n",
    "a*b"
   ]
  },
  {
   "cell_type": "code",
   "execution_count": null,
   "metadata": {},
   "outputs": [],
   "source": [
    "a=4; b=5; c=3; d=2\n",
    "a+b*(c-d)"
   ]
  },
  {
   "cell_type": "code",
   "execution_count": null,
   "metadata": {},
   "outputs": [],
   "source": [
    "# You can also define a variable using other variables:\n",
    "c = a*b"
   ]
  },
  {
   "cell_type": "code",
   "execution_count": null,
   "metadata": {},
   "outputs": [],
   "source": [
    "# Use the print function to see the value of c:\n",
    "print(c)"
   ]
  },
  {
   "cell_type": "code",
   "execution_count": null,
   "metadata": {},
   "outputs": [],
   "source": [
    "# You can reassign existing variables:\n",
    "a = 1\n",
    "b = 2\n",
    "a*b"
   ]
  },
  {
   "cell_type": "code",
   "execution_count": null,
   "metadata": {},
   "outputs": [],
   "source": [
    "# Use the %whos command to see what variables currently exist in iPython's memory:\n",
    "%whos"
   ]
  },
  {
   "cell_type": "markdown",
   "metadata": {},
   "source": [
    "Note that variable names are case sensitive. *A* is a different variable than *a*:"
   ]
  },
  {
   "cell_type": "code",
   "execution_count": null,
   "metadata": {},
   "outputs": [],
   "source": [
    "A"
   ]
  },
  {
   "cell_type": "markdown",
   "metadata": {},
   "source": [
    "### Variable names ###\n",
    "Variable names must begin with a letter and not a number, but after the first character they can have any combinations of letters and numbers, as well as underscores _. You can not use any other character in a variable name.\n",
    "\n",
    "In general, it is good practice to pick variable names that will help you understand what your code is doing. This is especially important when you have tens to hundreds of variables in a code or when your code may be hundreds to thousands of lines long so that keeping track of what each variable does could be challenging; having an informative variable name can offer a helpful clue when you are trying to follow the flow of a code.\n",
    "\n",
    "**Good variable names:**\n",
    "\n",
    "- sound_speed\n",
    "- initial_temperature\n",
    "- ocean_depth\n",
    "- time_of_day\n",
    "- a\n",
    "- b\n",
    "- c\n",
    "- camelCase\n",
    "- timeOfDay\n",
    "\n",
    "**Bad/confusing variable names:**\n",
    "\n",
    "- soSp\n",
    "- in_tem\n",
    "- od\n",
    "- a13492\n",
    "- variableNamesThatAreReallyReallyReallyReallyReallyLong\n",
    "\n",
    "**Illegal variable names:**\n",
    "\n",
    "- 1alpha\n",
    "- .nope\n",
    "- #NotGoingToWork\n",
    "- I.am.an.illegal.variable\n"
   ]
  },
  {
   "cell_type": "markdown",
   "metadata": {},
   "source": [
    "---\n",
    "## String Variables ##\n",
    "A string variable is simply a variable that holds one or more characters. You can think of them as a continous strings of characters, where even the spaces are a character. String variables are defined by enclosing the characters using either single quotes '' or double quotes \"\".  "
   ]
  },
  {
   "cell_type": "code",
   "execution_count": null,
   "metadata": {},
   "outputs": [],
   "source": [
    "name = \"Sarah\""
   ]
  },
  {
   "cell_type": "code",
   "execution_count": null,
   "metadata": {},
   "outputs": [],
   "source": [
    "city = 'New York'"
   ]
  },
  {
   "cell_type": "code",
   "execution_count": null,
   "metadata": {},
   "outputs": [],
   "source": [
    "# Print them using the print() function:\n",
    "print(name)\n",
    "print(city)"
   ]
  },
  {
   "cell_type": "code",
   "execution_count": null,
   "metadata": {},
   "outputs": [],
   "source": [
    "# You can also directly print text by enclosing it inside the print() function:\n",
    "print('Hello World')"
   ]
  },
  {
   "cell_type": "code",
   "execution_count": null,
   "metadata": {},
   "outputs": [],
   "source": [
    "# You can also combine variables in a print statement:\n",
    "print(name, city)"
   ]
  },
  {
   "cell_type": "code",
   "execution_count": null,
   "metadata": {},
   "outputs": [],
   "source": [
    "# Here's another way to use a print statement:\n",
    "print('My name is',name)"
   ]
  },
  {
   "cell_type": "code",
   "execution_count": null,
   "metadata": {},
   "outputs": [],
   "source": [
    "# You can also combine (aka concatenate) strings using the + operator:\n",
    "part1 = 'abc'\n",
    "part2 = 'def'\n",
    "part1 + part2"
   ]
  },
  {
   "cell_type": "code",
   "execution_count": null,
   "metadata": {},
   "outputs": [],
   "source": [
    "# If you have a really long character string, you can break it up into multiple lines\n",
    "# using triple quotes (single or double):\n",
    "quote_string = ''' \"Most good programmers do programming not because \n",
    "  they expect to get paid or get adulation by the public,\n",
    "  but because it is fun to program.\" \n",
    "  - Linus Torvalds''' \n",
    "print(quote_string)"
   ]
  },
  {
   "cell_type": "markdown",
   "metadata": {},
   "source": [
    "---\n",
    "## NumPy - Numerical Python ##\n",
    "So far we have just been using commands that are availabe in the basic core python package. Now we will learn how to import and use our first add-on package (sometimes also called libraries). The particular package we will import is called NumPy, short for Numerical Python. It is one of the most important libraries for scientific computing with Python.  To use NumPy, you first must import it into the workspace:"
   ]
  },
  {
   "cell_type": "code",
   "execution_count": null,
   "metadata": {},
   "outputs": [],
   "source": [
    "import numpy as np"
   ]
  },
  {
   "cell_type": "markdown",
   "metadata": {},
   "source": [
    "Here we imported the package numpy. Also, we renamed it to *np* using \"as np\".  The reason for renaming it to a shorter two-letter name will become evident below. Now type \"whos\" to see what this did:"
   ]
  },
  {
   "cell_type": "code",
   "execution_count": null,
   "metadata": {},
   "outputs": [],
   "source": [
    "%whos"
   ]
  },
  {
   "cell_type": "markdown",
   "metadata": {},
   "source": [
    "You can see that we now have a module named numpy in the workspace and it is stored in variable *np*. Rather than giving you a full tour of numpy, here we will just start using some of its functions so that you can get familiar with the syntax of using module functions rather than getting overwhelmed by the details.\n",
    "\n",
    "### Some math functions in NumPy:"
   ]
  },
  {
   "cell_type": "code",
   "execution_count": null,
   "metadata": {},
   "outputs": [],
   "source": [
    "# NumPy has all the common math functions. For example, here's how to compute a square root:\n",
    "np.sqrt(81)"
   ]
  },
  {
   "cell_type": "code",
   "execution_count": null,
   "metadata": {},
   "outputs": [],
   "source": [
    "# absolute value:\n",
    "np.abs(-2.1)"
   ]
  },
  {
   "cell_type": "markdown",
   "metadata": {},
   "source": [
    "Exponentiation $e^x$:"
   ]
  },
  {
   "cell_type": "code",
   "execution_count": null,
   "metadata": {},
   "outputs": [],
   "source": [
    "np.exp(1)"
   ]
  },
  {
   "cell_type": "code",
   "execution_count": null,
   "metadata": {},
   "outputs": [],
   "source": [
    "# logarithm, base exp(1)\n",
    "np.log(2)"
   ]
  },
  {
   "cell_type": "code",
   "execution_count": null,
   "metadata": {},
   "outputs": [],
   "source": [
    "# logarithm, base 10:\n",
    "np.log10(100)"
   ]
  },
  {
   "cell_type": "code",
   "execution_count": null,
   "metadata": {},
   "outputs": [],
   "source": [
    "# You can get the value of pi using:\n",
    "np.pi"
   ]
  },
  {
   "cell_type": "code",
   "execution_count": null,
   "metadata": {},
   "outputs": [],
   "source": [
    "# sine:\n",
    "np.sin(np.pi/4)"
   ]
  },
  {
   "cell_type": "markdown",
   "metadata": {},
   "source": [
    "Note that the trigonometric functions expect their arguments to be in radians, not degrees. To make it easy to convert from degrees to radians, or vice versa, NumPy has the following functions:"
   ]
  },
  {
   "cell_type": "code",
   "execution_count": null,
   "metadata": {},
   "outputs": [],
   "source": [
    "# degrees to radians:\n",
    "np.deg2rad(180)"
   ]
  },
  {
   "cell_type": "markdown",
   "metadata": {},
   "source": [
    "---\n",
    "### Arrays in NumPy ##\n",
    "The main objects used to store number variables in NumPy are arrays. Arrays are long lists of numbers stored as row vectors, column vectors or as a matrix.  They are called _ndarrays_ in NumPy, which is short for _n-dimensional_ array."
   ]
  },
  {
   "cell_type": "code",
   "execution_count": null,
   "metadata": {},
   "outputs": [],
   "source": [
    "# Define an array of some numbers\n",
    "np.array([1,2,3,4,5,6])"
   ]
  },
  {
   "cell_type": "code",
   "execution_count": null,
   "metadata": {},
   "outputs": [],
   "source": [
    "# Store array as a variable:\n",
    "a = np.array([1, 2, 3, 4, 5, 6])"
   ]
  },
  {
   "cell_type": "code",
   "execution_count": null,
   "metadata": {},
   "outputs": [],
   "source": [
    "type(a)"
   ]
  },
  {
   "cell_type": "code",
   "execution_count": null,
   "metadata": {},
   "outputs": [],
   "source": [
    "# You can access elements of an array using index notation. Note that unlike MATLAB, \n",
    "# Python indexes start with 0 rather than 1. So the first element is at index 0.\n",
    "a[0]"
   ]
  },
  {
   "cell_type": "code",
   "execution_count": null,
   "metadata": {},
   "outputs": [],
   "source": [
    "# One helpful way to think about this is that you the index is actually the offset \n",
    "# from the first value.  So 0 means the first value, 1 means the second value \n",
    "# (i.e. starting offset plus 1), etc\n",
    "\n",
    "# you can use colon notation to retrieved multiple elements from an array. \n",
    "# for example, let's retrieve elements 2 through 4:\n",
    "a[1:4]"
   ]
  },
  {
   "cell_type": "markdown",
   "metadata": {},
   "source": [
    "Note that the colon notation is `array[start:stop]`. This retrieves the values from offset `start` and goes up to, **but not including**, `stop`."
   ]
  },
  {
   "cell_type": "code",
   "execution_count": null,
   "metadata": {},
   "outputs": [],
   "source": [
    "# A major advantage of arrays, is that you can apply mathematical operations\n",
    "# to the array values all at once. \n",
    "a**2"
   ]
  },
  {
   "cell_type": "code",
   "execution_count": null,
   "metadata": {},
   "outputs": [],
   "source": [
    "np.sqrt(a)"
   ]
  },
  {
   "cell_type": "code",
   "execution_count": null,
   "metadata": {},
   "outputs": [],
   "source": [
    "# Get the size, or length, of an array:\n",
    "np.size(a)"
   ]
  },
  {
   "cell_type": "markdown",
   "metadata": {},
   "source": [
    "### More array creation in Numpy ###\n",
    "You can create a linearly spaced array of numbers using the linspace function. The syntax is `linspace(start_point,end_point,number_of_values)`. Linspace will create evenly spaced numbers over a specified interval, _including_ the end_point."
   ]
  },
  {
   "cell_type": "code",
   "execution_count": null,
   "metadata": {},
   "outputs": [],
   "source": [
    "np.linspace(0,10,5)"
   ]
  },
  {
   "cell_type": "markdown",
   "metadata": {},
   "source": [
    "---\n",
    "## Making plots with matplotlib\n",
    "matplotlib is a package for making plots and figures. If you've used MATLAB before, you will recognize some of the syntax and commands used in matplotlib.\n",
    "\n",
    "First we need to import the package, but only the plotting parts we need."
   ]
  },
  {
   "cell_type": "code",
   "execution_count": null,
   "metadata": {},
   "outputs": [],
   "source": [
    "from matplotlib import pyplot as plt"
   ]
  },
  {
   "cell_type": "code",
   "execution_count": null,
   "metadata": {},
   "outputs": [],
   "source": [
    "# A simple plot of a list of numbers:\n",
    "plt.plot([1,2,3,4])\n",
    "plt.show()  # the .show command isn't needed but then Python will spit out some additional text abaout the plot variable object"
   ]
  },
  {
   "cell_type": "code",
   "execution_count": null,
   "metadata": {},
   "outputs": [],
   "source": [
    "# A better way to make plots is to include a title and axes labels:\n",
    "n = 10\n",
    "x = np.linspace(-5, 5, n)\n",
    "y = x**2\n",
    "\n",
    "plt.plot(x,y)\n",
    "plt.xlabel('this is the x axis')\n",
    "plt.ylabel('this is the y axis')\n",
    "plt.title('this is the title')\n",
    "plt.show()"
   ]
  },
  {
   "cell_type": "code",
   "execution_count": null,
   "metadata": {},
   "outputs": [],
   "source": [
    "# same plot but with markers for each data value.\n",
    "n = 10\n",
    "x = np.linspace(-5,5,n)\n",
    "y = x**2\n",
    "plt.plot(x,y,'ko-')\n",
    "plt.xlabel('this is the x axis')\n",
    "plt.ylabel('this is the y axis')\n",
    "plt.title('this is the title')\n",
    "plt.show()"
   ]
  },
  {
   "cell_type": "code",
   "execution_count": null,
   "metadata": {},
   "outputs": [],
   "source": [
    "t = np.linspace(0,5,20)\n",
    "plt.plot(t, t, 'r--', t, t**2, 'bs', t, t**3, 'g^')\n",
    "plt.show()"
   ]
  },
  {
   "cell_type": "code",
   "execution_count": null,
   "metadata": {},
   "outputs": [],
   "source": [
    "# Same as the above plot, but now with a log10 scale axes rather than linear axes and grid lines added:\n",
    "t = np.logspace(-1,3,25)  # note the new \"logspace\" command here\n",
    "plt.loglog(t, t, 'r--', t, t**2, 'bs', t, t**3, 'g^')\n",
    "plt.grid()\n",
    "plt.show()"
   ]
  },
  {
   "cell_type": "code",
   "execution_count": null,
   "metadata": {},
   "outputs": [],
   "source": [
    "# Same plot but now with a  with a legend:\n",
    "plt.loglog(t, t,    'r--',label='t')\n",
    "plt.loglog(t, t**2, 'bs' ,label='t**2')\n",
    "plt.loglog(t, t**3, 'g^' ,label='t**3')\n",
    "plt.grid()\n",
    "plt.legend()\n",
    "plt.show()"
   ]
  },
  {
   "cell_type": "code",
   "execution_count": null,
   "metadata": {},
   "outputs": [],
   "source": [
    "# Same plot but now increasing the size of the figure:\n",
    "plt.figure(figsize=(12,8))\n",
    "plt.loglog(t, t,    'r--',label='t')\n",
    "plt.loglog(t, t**2, 'bs' ,label='t**2')\n",
    "plt.loglog(t, t**3, 'g^' ,label='t**3')\n",
    "plt.grid()\n",
    "plt.legend()\n",
    "plt.show()"
   ]
  },
  {
   "cell_type": "code",
   "execution_count": null,
   "metadata": {},
   "outputs": [],
   "source": [
    "# log scale on y axis only:\n",
    "\n",
    "t = np.logspace(-1,3,25)  # note the new \"semilogy\" command here, \"semilogx\" is a parallel command. \n",
    "plt.figure(figsize=(12,8))\n",
    "plt.semilogy(t, t,    'r--',label='t')\n",
    "plt.semilogy(t, t**2, 'bs' ,label='t**2')\n",
    "plt.semilogy(t, t**3, 'g^' ,label='t**3')\n",
    "plt.grid()\n",
    "plt.legend()\n",
    "plt.show()"
   ]
  },
  {
   "cell_type": "code",
   "execution_count": null,
   "metadata": {},
   "outputs": [],
   "source": []
  }
 ],
 "metadata": {
  "kernelspec": {
   "display_name": "science",
   "language": "python",
   "name": "python3"
  },
  "language_info": {
   "codemirror_mode": {
    "name": "ipython",
    "version": 3
   },
   "file_extension": ".py",
   "mimetype": "text/x-python",
   "name": "python",
   "nbconvert_exporter": "python",
   "pygments_lexer": "ipython3",
   "version": "3.9.18"
  }
 },
 "nbformat": 4,
 "nbformat_minor": 2
}
